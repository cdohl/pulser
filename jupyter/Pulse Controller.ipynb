{
 "cells": [
  {
   "cell_type": "code",
   "execution_count": 288,
   "metadata": {
    "hide_input": false,
    "scrolled": false
   },
   "outputs": [
    {
     "name": "stdout",
     "output_type": "stream",
     "text": [
      "\n"
     ]
    },
    {
     "data": {
      "application/vnd.jupyter.widget-view+json": {
       "model_id": "f9e1db0f29544d0b97f3852018cc2bd8",
       "version_major": 2,
       "version_minor": 0
      },
      "text/plain": [
       "HBox(children=(HTML(value='<style>.data_input input { background-color:#D0F0D0 !important; }.data_wrong input …"
      ]
     },
     "metadata": {},
     "output_type": "display_data"
    },
    {
     "data": {
      "application/vnd.jupyter.widget-view+json": {
       "model_id": "98725bb0e8f546bf8d47a3a67edd6cd4",
       "version_major": 2,
       "version_minor": 0
      },
      "text/plain": [
       "HBox(children=(VBox(children=(HBox(children=(Label(value='P0', layout=Layout(width='3ex')), Text(value='0', la…"
      ]
     },
     "metadata": {},
     "output_type": "display_data"
    },
    {
     "data": {
      "application/vnd.jupyter.widget-view+json": {
       "model_id": "d7ff96c48c4140bb805ca4a0a558ab14",
       "version_major": 2,
       "version_minor": 0
      },
      "text/plain": [
       "HBox(children=(VBox(children=(HBox(children=(Label(value='P2', layout=Layout(width='3ex')), Text(value='0', la…"
      ]
     },
     "metadata": {},
     "output_type": "display_data"
    },
    {
     "data": {
      "application/vnd.jupyter.widget-view+json": {
       "model_id": "78cf29fea9be4aca974a84d457a03644",
       "version_major": 2,
       "version_minor": 0
      },
      "text/plain": [
       "HBox(children=(VBox(children=(HBox(children=(Label(value='P4', layout=Layout(width='3ex')), Text(value='0', la…"
      ]
     },
     "metadata": {},
     "output_type": "display_data"
    },
    {
     "data": {
      "application/vnd.jupyter.widget-view+json": {
       "model_id": "f727424dd0ea488799d293ea9b9bc13b",
       "version_major": 2,
       "version_minor": 0
      },
      "text/plain": [
       "HBox(children=(VBox(children=(HBox(children=(Label(value='P6', layout=Layout(width='3ex')), Text(value='0', la…"
      ]
     },
     "metadata": {},
     "output_type": "display_data"
    },
    {
     "name": "stdout",
     "output_type": "stream",
     "text": [
      "\n",
      "128\n",
      "0\n",
      "128\n",
      "0\n",
      "128\n",
      "129\n",
      "133\n"
     ]
    }
   ],
   "source": [
    "%matplotlib inline\n",
    "from ipywidgets import widgets\n",
    "from ipywidgets import Layout\n",
    "from IPython import display\n",
    "import numpy as np\n",
    "import serial\n",
    "import time\n",
    "import sys\n",
    "import glob\n",
    "\n",
    "N=8\n",
    "N_out=8\n",
    "\n",
    "data_input_style = \"<style>.data_input input { background-color:#D0F0D0 !important; }\"+\\\n",
    "                   \".data_wrong input { background-color:#F00000 !important; }</style>\"\n",
    "\n",
    "clk_s=100000000 #clock cycle per second\n",
    "\n",
    "connected = False\n",
    "\n",
    "p_d=[\"0\" for n in range(10)]\n",
    "p_w=[\"10e-6\" for n in range(10)] \n",
    "\n",
    "def serial_ports():\n",
    "    if sys.platform.startswith('win'):\n",
    "        ports = ['COM%s' % (i + 1) for i in range(256)]\n",
    "    elif sys.platform.startswith('linux') or sys.platform.startswith('cygwin'):\n",
    "        # this excludes your current terminal \"/dev/tty\"\n",
    "        ports = glob.glob('/dev/tty[A-Za-z]*')\n",
    "    elif sys.platform.startswith('darwin'):\n",
    "        ports = glob.glob('/dev/tty.*')\n",
    "    else:\n",
    "        raise EnvironmentError('Unsupported platform')\n",
    "\n",
    "    result = []\n",
    "    for port in ports:\n",
    "        try:\n",
    "            s = serial.Serial(port)\n",
    "            s.close()\n",
    "            result.append(port)\n",
    "        except (OSError, serial.SerialException):\n",
    "            pass\n",
    "    return result\n",
    "\n",
    "\n",
    "\n",
    "def send_pulser(cmd='', show=False):\n",
    "    global ser\n",
    "    ser.write(cmd)\n",
    "    #print cmd\n",
    "    out = b''\n",
    "    while ser.inWaiting() > 0:\n",
    "        out += ser.read(1)\n",
    "    if out != '':\n",
    "        if show:\n",
    "            print (\">>\" + out)\n",
    "    return out\n",
    "\n",
    "def send_trigger(b):\n",
    "    send_pulser(b\"TRIG\\r\\n\")\n",
    "    \n",
    "def send_delay(delay,pulser):\n",
    "    send_pulser('SET DELAY {:d} {:d}\\r\\n'.format(int(delay*clk_s),pulser).encode())\n",
    "\n",
    "def send_width(width,pulser):\n",
    "    send_pulser('SET WIDTH {:d} {:d}\\r\\n'.format(int(width*clk_s),pulser).encode())     \n",
    "    \n",
    "def disable_ui(b):\n",
    "    print(\"\")\n",
    "    \n",
    "def my_connect(newvalue):\n",
    "    global ser\n",
    "    if (w_connect.value=='connect'):\n",
    "        ser = serial.Serial(w_ports.value, baudrate=115200)\n",
    "        time.sleep(1)\n",
    "        connected = True\n",
    "        disable_ui(False)\n",
    "    else:\n",
    "        ser.close()\n",
    "        connected = False\n",
    "        disable_ui(True)\n",
    "\n",
    "def dw_change(change):\n",
    "    delay=True\n",
    "    try:\n",
    "        i=w_d.index(change['owner'])\n",
    "        inp_i=w_d[i]\n",
    "        out_i=w_di[i]\n",
    "        check = lambda a : (a<100) and (a>=0)      \n",
    "    except ValueError:\n",
    "        i=w_w.index(change['owner'])\n",
    "        inp_i=w_w[i]\n",
    "        out_i=w_wi[i]\n",
    "        check = lambda a : (a<100) and (a>=10e-9)\n",
    "        delay=False\n",
    "    try:\n",
    "        myf=float(eval(change['new']))\n",
    "        if check(myf):\n",
    "            mys='{:{width}.{prec}f}'.format(myf, width=12, prec=9)\n",
    "            if delay:\n",
    "                send_delay(myf,i)\n",
    "            else:\n",
    "                send_width(myf,i)\n",
    "        else:\n",
    "            raise\n",
    "    except:\n",
    "        inp_i.remove_class('data_input')\n",
    "        inp_i.add_class('data_wrong')\n",
    "        pass\n",
    "    else:\n",
    "        out_i.value=mys\n",
    "        inp_i.remove_class('data_wrong')\n",
    "        inp_i.add_class('data_input')\n",
    "\n",
    "def en_change(change):\n",
    "    #i=w_e.index(change['owner'])\n",
    "    b=0;\n",
    "    for i in range(N):\n",
    "        b+=(w_e[i].value==True)*2**i\n",
    "    send_pulser('SET ENABLE {:d}\\r\\n'.format(b).encode())\n",
    "    print(b)\n",
    "        \n",
    "try:\n",
    "    myserialports\n",
    "except NameError:\n",
    "    myserialports=serial_ports()\n",
    "\n",
    "w_connect=widgets.ToggleButtons(description='Pulser:',\\\n",
    "                               options=['connect', 'disconnect'], value=\"disconnect\")\n",
    "w_ports=widgets.Dropdown(\n",
    "    options=myserialports,\n",
    "    value=myserialports[-1],\n",
    "    description='Port:',\n",
    "    disabled=False,\n",
    ")\n",
    "\n",
    "w_connect.observe(my_connect, names='value')\n",
    "\n",
    "w_l=[]; w_e=[]; w_d=[]; w_di=[]; w_w=[]; w_wi=[]\n",
    "for n in range(N):\n",
    "    #Label\n",
    "    w_l.append(widgets.Label('P{:d}'.format(n)))\n",
    "    w_l[n].layout.width=\"3ex\"\n",
    "    #Enable\n",
    "    w_e.append(widgets.Checkbox(value=False, disabled=False, indent=False))\n",
    "    w_e[n].layout.max_width=\"3ex\"\n",
    "    w_e[n].observe(en_change, names='value')\n",
    "    #Input Delay\n",
    "    w_d.append(widgets.Text(value=p_d[n],placeholder='Pulser 1',disabled=False))\n",
    "    w_d[n].layout.max_width=\"20ex\"\n",
    "    w_d[n].observe(dw_change, names='value')\n",
    "    w_d[n].add_class('data_input')\n",
    "    #Evaled Delay\n",
    "    w_di.append(widgets.Text(value=p_d[n],placeholder='Type something',disabled=False))\n",
    "    w_di[n].layout.max_width=\"20ex\"\n",
    "\n",
    "    #Input Width\n",
    "    w_w.append(widgets.Text(value=p_d[n],placeholder='Pulser 1',disabled=False))\n",
    "    w_w[n].layout.max_width=\"20ex\"\n",
    "    w_w[n].observe(dw_change, names='value')\n",
    "    w_w[n].add_class('data_input')\n",
    "    #Evaled Width\n",
    "    w_wi.append(widgets.Text(value=p_w[n],placeholder='Type something',disabled=False))\n",
    "    w_wi[n].layout.max_width=\"20ex\"\n",
    "\n",
    "disable_ui(True)\n",
    "w_pps=[]\n",
    "for n in range(N):\n",
    "    w_pps.append(widgets.VBox([widgets.HBox([w_l[n],w_d[n],w_w[n]]),\\\n",
    "                              widgets.HBox([w_e[n],w_di[n],w_wi[n]])]));\n",
    "    \n",
    "w_trigger=widgets.Button(description='Trigger', button_style='danger')\n",
    "w_trigger.on_click(send_trigger)\n",
    "\n",
    "ht=widgets.HTML(data_input_style)\n",
    "display.display(widgets.HBox([ht,w_ports,w_connect,w_trigger]))\n",
    "for n in range(int(N/2)):\n",
    "    display.display(widgets.HBox([w_pps[n*2+i] for i in range(2)]))"
   ]
  },
  {
   "cell_type": "code",
   "execution_count": 257,
   "metadata": {},
   "outputs": [
    {
     "data": {
      "text/plain": [
       "'/dev/tty.usbmodem1421'"
      ]
     },
     "execution_count": 257,
     "metadata": {},
     "output_type": "execute_result"
    }
   ],
   "source": [
    "w_ports.value"
   ]
  },
  {
   "cell_type": "code",
   "execution_count": 43,
   "metadata": {},
   "outputs": [
    {
     "data": {
      "text/plain": [
       "6"
      ]
     },
     "execution_count": 43,
     "metadata": {},
     "output_type": "execute_result"
    }
   ],
   "source": [
    "ser.write(b\"TRIG\\r\\n\")"
   ]
  },
  {
   "cell_type": "code",
   "execution_count": 23,
   "metadata": {},
   "outputs": [
    {
     "data": {
      "text/plain": [
       "23"
      ]
     },
     "execution_count": 23,
     "metadata": {},
     "output_type": "execute_result"
    }
   ],
   "source": [
    "ser.write(b\"SET WIDTH 300000000 7\\r\\n\")"
   ]
  },
  {
   "cell_type": "code",
   "execution_count": 32,
   "metadata": {},
   "outputs": [],
   "source": [
    "widgets.HBox??"
   ]
  },
  {
   "cell_type": "code",
   "execution_count": 56,
   "metadata": {},
   "outputs": [
    {
     "data": {
      "text/plain": [
       "11"
      ]
     },
     "execution_count": 56,
     "metadata": {},
     "output_type": "execute_result"
    }
   ],
   "source": [
    "ser.write(b\"REQ PULSE\\n\\r\")"
   ]
  },
  {
   "cell_type": "code",
   "execution_count": 116,
   "metadata": {},
   "outputs": [],
   "source": [
    "w_d0.value='1233'"
   ]
  },
  {
   "cell_type": "code",
   "execution_count": 62,
   "metadata": {},
   "outputs": [
    {
     "name": "stdout",
     "output_type": "stream",
     "text": [
      "1,000,000,000\n"
     ]
    }
   ],
   "source": [
    "print(\"{:,}\".format(1000000000))"
   ]
  },
  {
   "cell_type": "code",
   "execution_count": 63,
   "metadata": {},
   "outputs": [
    {
     "data": {
      "text/plain": [
       "'1,000,000,000'"
      ]
     },
     "execution_count": 63,
     "metadata": {},
     "output_type": "execute_result"
    }
   ],
   "source": [
    "\"{:,}\".format(1000000000)"
   ]
  },
  {
   "cell_type": "code",
   "execution_count": 97,
   "metadata": {},
   "outputs": [
    {
     "data": {
      "text/plain": [
       "'10,000'"
      ]
     },
     "execution_count": 97,
     "metadata": {},
     "output_type": "execute_result"
    }
   ],
   "source": [
    "\"{:,}\".format(p_w[0])"
   ]
  },
  {
   "cell_type": "code",
   "execution_count": 90,
   "metadata": {},
   "outputs": [
    {
     "data": {
      "text/plain": [
       "numpy.int32"
      ]
     },
     "execution_count": 90,
     "metadata": {},
     "output_type": "execute_result"
    }
   ],
   "source": [
    "type(np.int32(11))"
   ]
  },
  {
   "cell_type": "code",
   "execution_count": 107,
   "metadata": {},
   "outputs": [
    {
     "data": {
      "text/plain": [
       "['1', '1', '1', '1', '1', '1', '1', '1', '1', '1']"
      ]
     },
     "execution_count": 107,
     "metadata": {},
     "output_type": "execute_result"
    }
   ],
   "source": [
    "p_d"
   ]
  },
  {
   "cell_type": "code",
   "execution_count": 122,
   "metadata": {},
   "outputs": [],
   "source": [
    "a={'name': 'value', 'old': '1', 'new': '13'}"
   ]
  },
  {
   "cell_type": "code",
   "execution_count": 133,
   "metadata": {},
   "outputs": [],
   "source": [
    "w_d0.remove_class\n"
   ]
  },
  {
   "cell_type": "code",
   "execution_count": 171,
   "metadata": {},
   "outputs": [],
   "source": [
    "w_d=[]\n",
    "\n",
    "w_d.append(widgets.Text(value=p_d[0],placeholder='Pulser 1',disabled=False))"
   ]
  },
  {
   "cell_type": "code",
   "execution_count": 284,
   "metadata": {},
   "outputs": [
    {
     "data": {
      "text/plain": [
       "False"
      ]
     },
     "execution_count": 284,
     "metadata": {},
     "output_type": "execute_result"
    }
   ],
   "source": [
    "w_e[0].value"
   ]
  },
  {
   "cell_type": "code",
   "execution_count": 209,
   "metadata": {},
   "outputs": [],
   "source": [
    "l=[x for x in w_d if x == a]"
   ]
  },
  {
   "cell_type": "code",
   "execution_count": 210,
   "metadata": {},
   "outputs": [
    {
     "data": {
      "text/plain": [
       "[Text(value='', layout=Layout(max_width='20ex'), placeholder='Pulser 1', _dom_classes=('data_input',))]"
      ]
     },
     "execution_count": 210,
     "metadata": {},
     "output_type": "execute_result"
    }
   ],
   "source": [
    "l"
   ]
  },
  {
   "cell_type": "code",
   "execution_count": 211,
   "metadata": {},
   "outputs": [
    {
     "data": {
      "text/plain": [
       "0"
      ]
     },
     "execution_count": 211,
     "metadata": {},
     "output_type": "execute_result"
    }
   ],
   "source": [
    "w_d.index(a)"
   ]
  },
  {
   "cell_type": "code",
   "execution_count": 212,
   "metadata": {},
   "outputs": [
    {
     "data": {
      "application/vnd.jupyter.widget-view+json": {
       "model_id": "04dc465650c145ee91155a1077b8b50b",
       "version_major": 2,
       "version_minor": 0
      },
      "text/plain": [
       "Text(value='', layout=Layout(max_width='20ex'), placeholder='Pulser 1', _dom_classes=('data_input',))"
      ]
     },
     "metadata": {},
     "output_type": "display_data"
    }
   ],
   "source": [
    "a"
   ]
  },
  {
   "cell_type": "code",
   "execution_count": 276,
   "metadata": {},
   "outputs": [
    {
     "name": "stdout",
     "output_type": "stream",
     "text": [
      "SET DELAY 1000000000 2\r\n",
      "\n"
     ]
    }
   ],
   "source": [
    "myf=1;i=2\n",
    "print('SET DELAY {:d} {:d}\\r\\n'.format(int(myf*1e9),i))"
   ]
  },
  {
   "cell_type": "code",
   "execution_count": 279,
   "metadata": {},
   "outputs": [
    {
     "ename": "AttributeError",
     "evalue": "'bytes' object has no attribute 'format'",
     "output_type": "error",
     "traceback": [
      "\u001b[0;31m---------------------------------------------------------------------------\u001b[0m",
      "\u001b[0;31mAttributeError\u001b[0m                            Traceback (most recent call last)",
      "\u001b[0;32m<ipython-input-279-7bb4e5fbdd39>\u001b[0m in \u001b[0;36m<module>\u001b[0;34m\u001b[0m\n\u001b[1;32m      1\u001b[0m \u001b[0mmyf\u001b[0m\u001b[0;34m=\u001b[0m\u001b[0;36m1\u001b[0m\u001b[0;34m;\u001b[0m\u001b[0mi\u001b[0m\u001b[0;34m=\u001b[0m\u001b[0;36m2\u001b[0m\u001b[0;34m\u001b[0m\u001b[0;34m\u001b[0m\u001b[0m\n\u001b[0;32m----> 2\u001b[0;31m \u001b[0msend_pulser\u001b[0m\u001b[0;34m(\u001b[0m\u001b[0;34mb'SET DELAY {:d} {:d}\\r\\n'\u001b[0m\u001b[0;34m.\u001b[0m\u001b[0mformat\u001b[0m\u001b[0;34m(\u001b[0m\u001b[0mint\u001b[0m\u001b[0;34m(\u001b[0m\u001b[0mmyf\u001b[0m\u001b[0;34m*\u001b[0m\u001b[0;36m1e9\u001b[0m\u001b[0;34m)\u001b[0m\u001b[0;34m,\u001b[0m\u001b[0mi\u001b[0m\u001b[0;34m)\u001b[0m\u001b[0;34m)\u001b[0m\u001b[0;34m\u001b[0m\u001b[0;34m\u001b[0m\u001b[0m\n\u001b[0m",
      "\u001b[0;31mAttributeError\u001b[0m: 'bytes' object has no attribute 'format'"
     ]
    }
   ],
   "source": [
    "myf=1;i=2\n",
    "send_pulser('SET DELAY {:d} {:d}\\r\\n'.format(int(myf*1e9),i))"
   ]
  },
  {
   "cell_type": "code",
   "execution_count": 280,
   "metadata": {},
   "outputs": [
    {
     "data": {
      "text/plain": [
       "b'SET DELAY 1000000000 2\\r\\n'"
      ]
     },
     "execution_count": 280,
     "metadata": {},
     "output_type": "execute_result"
    }
   ],
   "source": [
    "'SET DELAY {:d} {:d}\\r\\n'.format(int(myf*1e9),i).encode()"
   ]
  },
  {
   "cell_type": "code",
   "execution_count": null,
   "metadata": {},
   "outputs": [],
   "source": []
  }
 ],
 "metadata": {
  "kernelspec": {
   "display_name": "Python [conda env:mypython3]",
   "language": "python",
   "name": "conda-env-mypython3-py"
  },
  "language_info": {
   "codemirror_mode": {
    "name": "ipython",
    "version": 3
   },
   "file_extension": ".py",
   "mimetype": "text/x-python",
   "name": "python",
   "nbconvert_exporter": "python",
   "pygments_lexer": "ipython3",
   "version": "3.7.3"
  }
 },
 "nbformat": 4,
 "nbformat_minor": 2
}
