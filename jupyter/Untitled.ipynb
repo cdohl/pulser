{
 "cells": [
  {
   "cell_type": "code",
   "execution_count": 36,
   "metadata": {},
   "outputs": [
    {
     "name": "stdout",
     "output_type": "stream",
     "text": [
      "1250.0\n"
     ]
    },
    {
     "data": {
      "text/plain": [
       "91873.58274894998"
      ]
     },
     "execution_count": 36,
     "metadata": {},
     "output_type": "execute_result"
    }
   ],
   "source": [
    "import numpy as np\n",
    "import matplotlib.pyplot as plt\n",
    "import scipy.integrate as integrate\n",
    "\n",
    "H=4.e-2\n",
    "deltaz0=3e-3\n",
    "h0=H-deltaz0\n",
    "deltaz=.5e-3\n",
    "h=h0-np.linspace(0,deltaz,100)\n",
    "max_strain, _ = integrate.quad(lambda x: 1./x, h0, h[-1])\n",
    "max_strain = -max_strain\n",
    "\n",
    "A=(4e-2)**2\n",
    "F=.2*10.\n",
    "max_stress=F/A\n",
    "print(max_stress)\n",
    "max_stress/max_strain"
   ]
  },
  {
   "cell_type": "code",
   "execution_count": 11,
   "metadata": {},
   "outputs": [
    {
     "data": {
      "text/plain": [
       "-0.027398974188114468"
      ]
     },
     "execution_count": 11,
     "metadata": {},
     "output_type": "execute_result"
    }
   ],
   "source": [
    "result"
   ]
  },
  {
   "cell_type": "code",
   "execution_count": null,
   "metadata": {},
   "outputs": [],
   "source": []
  }
 ],
 "metadata": {
  "kernelspec": {
   "display_name": "Python [conda env:mypython3]",
   "language": "python",
   "name": "conda-env-mypython3-py"
  },
  "language_info": {
   "codemirror_mode": {
    "name": "ipython",
    "version": 3
   },
   "file_extension": ".py",
   "mimetype": "text/x-python",
   "name": "python",
   "nbconvert_exporter": "python",
   "pygments_lexer": "ipython3",
   "version": "3.7.3"
  }
 },
 "nbformat": 4,
 "nbformat_minor": 2
}
