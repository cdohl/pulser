{
 "cells": [
  {
   "cell_type": "code",
   "execution_count": 217,
   "metadata": {
    "scrolled": false
   },
   "outputs": [
    {
     "name": "stdout",
     "output_type": "stream",
     "text": [
      "...\n"
     ]
    },
    {
     "data": {
      "application/vnd.jupyter.widget-view+json": {
       "model_id": "6b2180ae1b364bf4ad9d185422400e8b",
       "version_major": 2,
       "version_minor": 0
      },
      "text/plain": [
       "ToggleButtons(description='Pulser:', index=1, options=('connect', 'disconnect'), value='disconnect')"
      ]
     },
     "metadata": {},
     "output_type": "display_data"
    },
    {
     "data": {
      "application/vnd.jupyter.widget-view+json": {
       "model_id": "c7ee08af1c684002869a4cf827e948f6",
       "version_major": 2,
       "version_minor": 0
      },
      "text/plain": [
       "VBox(children=(HTML(value='<style>.data_input input { background-color:#D0F0D0 !important; }.data_wrong input …"
      ]
     },
     "metadata": {},
     "output_type": "display_data"
    }
   ],
   "source": [
    "%matplotlib inline\n",
    "from ipywidgets import widgets\n",
    "from ipywidgets import Layout\n",
    "from IPython import display\n",
    "import numpy as np\n",
    "import serial\n",
    "import time\n",
    "\n",
    "N=8\n",
    "N_out=8\n",
    "\n",
    "data_input_style = \"<style>.data_input input { background-color:#D0F0D0 !important; }\"+\\\n",
    "                   \".data_wrong input { background-color:#F00000 !important; }</style>\"\n",
    "\n",
    "clk_s=100000000 #clock cycle per second\n",
    "\n",
    "connected = False\n",
    "\n",
    "p_d=[\"1\" for n in range(10)] #1s\n",
    "p_w=[\"10e-6\" for n in range(10)] \n",
    "\n",
    "\n",
    "def send_pulser(cmd='', show=False):\n",
    "    global ser\n",
    "    ser.write(cmd)\n",
    "    #print cmd\n",
    "    out = ''\n",
    "    while ser.inWaiting() > 0:\n",
    "        out += ser.read(1)\n",
    "    if out != '':\n",
    "        if show:\n",
    "            print (\">>\" + out)\n",
    "    return out\n",
    "\n",
    "def disable_ui(b):\n",
    "    print(\"...\")\n",
    "    \n",
    "def my_connect(newvalue):\n",
    "    global ser\n",
    "    if (w_connect.value=='connect'):\n",
    "        ser = serial.Serial('/dev/cu.usbmodem1421', baudrate=115200)\n",
    "        time.sleep(1)\n",
    "        #send_ramps(show=False)\n",
    "        time.sleep(1)\n",
    "        connected = True\n",
    "        disable_ui(False)\n",
    "    else:\n",
    "        ser.close()\n",
    "        connected = False\n",
    "        disable_ui(True)\n",
    "\n",
    "def on_value_change(change):\n",
    "    try:\n",
    "        i=w_d.index(change['owner'])\n",
    "        inp_i=w_d[i]\n",
    "        out_i=w_di[i]\n",
    "        \n",
    "    except ValueError:\n",
    "        i=w_w.index(change['owner'])\n",
    "        inp_i=w_w[i]\n",
    "        out_i=w_wi[i]\n",
    "        \n",
    "    try:\n",
    "        myf=float(eval(change['new']))\n",
    "        if (myf<100.) and (myf>=0.):\n",
    "            mys='{:{width}.{prec}f}'.format(myf, width=12, prec=9)\n",
    "        else:\n",
    "            raise\n",
    "    except:\n",
    "        inp_i.remove_class('data_input')\n",
    "        inp_i.add_class('data_wrong')\n",
    "        pass\n",
    "    else:\n",
    "        out_i.value=mys\n",
    "        inp_i.remove_class('data_wrong')\n",
    "        inp_i.add_class('data_input')\n",
    "        \n",
    "            \n",
    "    #print(change)\n",
    "    \n",
    "w_connect=widgets.ToggleButtons(description='Pulser:',\\\n",
    "                               options=['connect', 'disconnect'], value=\"disconnect\")\n",
    "w_connect.observe(my_connect, names='value')\n",
    "w_l=[]; w_e=[]; w_d=[]; w_di=[]; w_w=[]; w_wi=[]\n",
    "\n",
    "#Label\n",
    "w_l.append(widgets.Label('P1'))\n",
    "w_l[0].layout.width=\"3ex\"\n",
    "#Enable\n",
    "w_e.append(widgets.Checkbox(value=False, disabled=False, indent=False))\n",
    "w_e[0].layout.max_width=\"3ex\"\n",
    "#Input Delay\n",
    "w_d.append(widgets.Text(value=p_d[0],placeholder='Pulser 1',disabled=False))\n",
    "w_d[0].layout.max_width=\"20ex\"\n",
    "w_d[0].observe(on_value_change, names='value')\n",
    "w_d[0].add_class('data_input')\n",
    "#Evaled Delay\n",
    "w_di.append(widgets.Text(value=p_d[0],placeholder='Type something',disabled=False))\n",
    "w_di[0].layout.max_width=\"20ex\"\n",
    "\n",
    "#Input Width\n",
    "w_w.append(widgets.Text(value=p_d[0],placeholder='Pulser 1',disabled=False))\n",
    "w_w[0].layout.max_width=\"20ex\"\n",
    "w_w[0].observe(on_value_change, names='value')\n",
    "w_w[0].add_class('data_input')\n",
    "#Evaled Width\n",
    "w_wi.append(widgets.Text(value=p_w[0],placeholder='Type something',disabled=False))\n",
    "w_wi[0].layout.max_width=\"20ex\"\n",
    "\n",
    "disable_ui(True)\n",
    "w_pp0a=widgets.HBox([w_l[0],w_d[0],w_w[0]]);\n",
    "w_pp0b=widgets.HBox([w_e[0],w_di[0],w_wi[0]]);\n",
    "\n",
    "ht=widgets.HTML(data_input_style)\n",
    "display.display(w_connect,widgets.VBox([ht,w_pp0a,w_pp0b]));"
   ]
  },
  {
   "cell_type": "code",
   "execution_count": 198,
   "metadata": {},
   "outputs": [
    {
     "data": {
      "application/vnd.jupyter.widget-view+json": {
       "model_id": "3c9d4cd545dd44e391c4c03a8f0842c2",
       "version_major": 2,
       "version_minor": 0
      },
      "text/plain": [
       "HBox(children=(Label(value='P1', layout=Layout(width='3ex')), Label(value='P1', layout=Layout(width='3ex'))))"
      ]
     },
     "metadata": {},
     "output_type": "display_data"
    }
   ],
   "source": [
    "widgets.HBox([w_l[0] for i in range(2)])"
   ]
  },
  {
   "cell_type": "code",
   "execution_count": 43,
   "metadata": {},
   "outputs": [
    {
     "data": {
      "text/plain": [
       "6"
      ]
     },
     "execution_count": 43,
     "metadata": {},
     "output_type": "execute_result"
    }
   ],
   "source": [
    "ser.write(b\"TRIG\\r\\n\")"
   ]
  },
  {
   "cell_type": "code",
   "execution_count": 23,
   "metadata": {},
   "outputs": [
    {
     "data": {
      "text/plain": [
       "23"
      ]
     },
     "execution_count": 23,
     "metadata": {},
     "output_type": "execute_result"
    }
   ],
   "source": [
    "ser.write(b\"SET WIDTH 300000000 7\\r\\n\")"
   ]
  },
  {
   "cell_type": "code",
   "execution_count": 32,
   "metadata": {},
   "outputs": [],
   "source": [
    "widgets.HBox??"
   ]
  },
  {
   "cell_type": "code",
   "execution_count": 56,
   "metadata": {},
   "outputs": [
    {
     "data": {
      "text/plain": [
       "11"
      ]
     },
     "execution_count": 56,
     "metadata": {},
     "output_type": "execute_result"
    }
   ],
   "source": [
    "ser.write(b\"REQ PULSE\\n\\r\")"
   ]
  },
  {
   "cell_type": "code",
   "execution_count": 116,
   "metadata": {},
   "outputs": [],
   "source": [
    "w_d0.value='1233'"
   ]
  },
  {
   "cell_type": "code",
   "execution_count": 62,
   "metadata": {},
   "outputs": [
    {
     "name": "stdout",
     "output_type": "stream",
     "text": [
      "1,000,000,000\n"
     ]
    }
   ],
   "source": [
    "print(\"{:,}\".format(1000000000))"
   ]
  },
  {
   "cell_type": "code",
   "execution_count": 63,
   "metadata": {},
   "outputs": [
    {
     "data": {
      "text/plain": [
       "'1,000,000,000'"
      ]
     },
     "execution_count": 63,
     "metadata": {},
     "output_type": "execute_result"
    }
   ],
   "source": [
    "\"{:,}\".format(1000000000)"
   ]
  },
  {
   "cell_type": "code",
   "execution_count": 97,
   "metadata": {},
   "outputs": [
    {
     "data": {
      "text/plain": [
       "'10,000'"
      ]
     },
     "execution_count": 97,
     "metadata": {},
     "output_type": "execute_result"
    }
   ],
   "source": [
    "\"{:,}\".format(p_w[0])"
   ]
  },
  {
   "cell_type": "code",
   "execution_count": 90,
   "metadata": {},
   "outputs": [
    {
     "data": {
      "text/plain": [
       "numpy.int32"
      ]
     },
     "execution_count": 90,
     "metadata": {},
     "output_type": "execute_result"
    }
   ],
   "source": [
    "type(np.int32(11))"
   ]
  },
  {
   "cell_type": "code",
   "execution_count": 107,
   "metadata": {},
   "outputs": [
    {
     "data": {
      "text/plain": [
       "['1', '1', '1', '1', '1', '1', '1', '1', '1', '1']"
      ]
     },
     "execution_count": 107,
     "metadata": {},
     "output_type": "execute_result"
    }
   ],
   "source": [
    "p_d"
   ]
  },
  {
   "cell_type": "code",
   "execution_count": 122,
   "metadata": {},
   "outputs": [],
   "source": [
    "a={'name': 'value', 'old': '1', 'new': '13'}"
   ]
  },
  {
   "cell_type": "code",
   "execution_count": 133,
   "metadata": {},
   "outputs": [],
   "source": [
    "w_d0.remove_class\n"
   ]
  },
  {
   "cell_type": "code",
   "execution_count": 171,
   "metadata": {},
   "outputs": [],
   "source": [
    "w_d=[]\n",
    "\n",
    "w_d.append(widgets.Text(value=p_d[0],placeholder='Pulser 1',disabled=False))"
   ]
  },
  {
   "cell_type": "code",
   "execution_count": 174,
   "metadata": {},
   "outputs": [
    {
     "data": {
      "text/plain": [
       "'1'"
      ]
     },
     "execution_count": 174,
     "metadata": {},
     "output_type": "execute_result"
    }
   ],
   "source": [
    "w_d[0].value"
   ]
  },
  {
   "cell_type": "code",
   "execution_count": 209,
   "metadata": {},
   "outputs": [],
   "source": [
    "l=[x for x in w_d if x == a]"
   ]
  },
  {
   "cell_type": "code",
   "execution_count": 210,
   "metadata": {},
   "outputs": [
    {
     "data": {
      "text/plain": [
       "[Text(value='', layout=Layout(max_width='20ex'), placeholder='Pulser 1', _dom_classes=('data_input',))]"
      ]
     },
     "execution_count": 210,
     "metadata": {},
     "output_type": "execute_result"
    }
   ],
   "source": [
    "l"
   ]
  },
  {
   "cell_type": "code",
   "execution_count": 211,
   "metadata": {},
   "outputs": [
    {
     "data": {
      "text/plain": [
       "0"
      ]
     },
     "execution_count": 211,
     "metadata": {},
     "output_type": "execute_result"
    }
   ],
   "source": [
    "w_d.index(a)"
   ]
  },
  {
   "cell_type": "code",
   "execution_count": 212,
   "metadata": {},
   "outputs": [
    {
     "data": {
      "application/vnd.jupyter.widget-view+json": {
       "model_id": "04dc465650c145ee91155a1077b8b50b",
       "version_major": 2,
       "version_minor": 0
      },
      "text/plain": [
       "Text(value='', layout=Layout(max_width='20ex'), placeholder='Pulser 1', _dom_classes=('data_input',))"
      ]
     },
     "metadata": {},
     "output_type": "display_data"
    }
   ],
   "source": [
    "a"
   ]
  },
  {
   "cell_type": "code",
   "execution_count": null,
   "metadata": {},
   "outputs": [],
   "source": []
  }
 ],
 "metadata": {
  "kernelspec": {
   "display_name": "Python [conda env:mypython3]",
   "language": "python",
   "name": "conda-env-mypython3-py"
  },
  "language_info": {
   "codemirror_mode": {
    "name": "ipython",
    "version": 3
   },
   "file_extension": ".py",
   "mimetype": "text/x-python",
   "name": "python",
   "nbconvert_exporter": "python",
   "pygments_lexer": "ipython3",
   "version": "3.7.3"
  }
 },
 "nbformat": 4,
 "nbformat_minor": 2
}
